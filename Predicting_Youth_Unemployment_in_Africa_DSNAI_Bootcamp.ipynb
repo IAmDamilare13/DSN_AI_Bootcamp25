{
  "cells": [
    {
      "cell_type": "markdown",
      "metadata": {
        "id": "view-in-github",
        "colab_type": "text"
      },
      "source": [
        "<a href=\"https://colab.research.google.com/github/IAmDamilare13/DSN_AI_Bootcamp25/blob/main/Predicting_Youth_Unemployment_in_Africa_DSNAI_Bootcamp.ipynb\" target=\"_parent\"><img src=\"https://colab.research.google.com/assets/colab-badge.svg\" alt=\"Open In Colab\"/></a>"
      ]
    },
    {
      "cell_type": "markdown",
      "id": "7e55ec67-8c7f-4cd0-8348-d40e6b87acc0",
      "metadata": {
        "id": "7e55ec67-8c7f-4cd0-8348-d40e6b87acc0"
      },
      "source": [
        "[![Open in Colab](https://colab.research.google.com/assets/colab-badge.svg)](\n",
        "https://colab.research.google.com/github/lekanakin/DSN_AI_Bootcamp25/blob/main/notebooks/Predicting_Youth_Unemployment_in_Africa_DSNAI_Bootcamp.ipynb)"
      ]
    },
    {
      "cell_type": "markdown",
      "id": "b9d4921d",
      "metadata": {
        "id": "b9d4921d"
      },
      "source": [
        "\n",
        "# Building Your First Predictive Model from Scratch  \n",
        "**Predicting Youth Unemployment in Africa (with Python) by Olalekan Akinsande** — [lekanakinsande.com](https://lekanakinsande.com)\n",
        "\n",
        "This notebook guides you through:\n",
        "1. Loading and exploring a real-world themed dataset (synthetic values for demo purposes).\n",
        "2. Training a simple **Linear Regression** model.\n",
        "3. Evaluating performance.\n",
        "4. Making new predictions — including an **interactive slider UI**.\n",
        "\n",
        "> **Note:** The CSV file (`youth_unemployment_africa.csv`) is provided alongside this notebook.  \n",
        "> - If running in **Colab**, upload the CSV when prompted.  \n",
        "> - Or host it on GitHub and paste the raw URL.\n"
      ]
    },
    {
      "cell_type": "code",
      "execution_count": 1,
      "id": "681136f5",
      "metadata": {
        "id": "681136f5",
        "outputId": "d8fe9986-1d5d-481b-c2dc-2aa3f2ec363a",
        "colab": {
          "base_uri": "https://localhost:8080/"
        }
      },
      "outputs": [
        {
          "output_type": "stream",
          "name": "stdout",
          "text": [
            "3.12.12 (main, Oct 10 2025, 08:52:57) [GCC 11.4.0]\n"
          ]
        }
      ],
      "source": [
        "#Import the Libraries\n",
        "import pandas as pd\n",
        "import matplotlib.pyplot as plt\n",
        "from sklearn.model_selection import train_test_split\n",
        "from sklearn.linear_model import LinearRegression\n",
        "from sklearn.metrics import mean_absolute_error, r2_score\n",
        "from pathlib import Path\n",
        "\n",
        "import sys\n",
        "print(sys.version)\n"
      ]
    },
    {
      "cell_type": "markdown",
      "id": "5b2f9741",
      "metadata": {
        "id": "5b2f9741"
      },
      "source": [
        "\n",
        "## 1) Load the Dataset\n",
        "Two options:\n",
        "- **Upload** the CSV from your computer (works well in Colab)\n",
        "- **Use a URL** to a raw CSV (e.g., hosted on GitHub)\n"
      ]
    },
    {
      "cell_type": "code",
      "execution_count": null,
      "id": "6ce40da1-ea23-47e2-aacb-cdebe2af7aab",
      "metadata": {
        "id": "6ce40da1-ea23-47e2-aacb-cdebe2af7aab"
      },
      "outputs": [],
      "source": [
        "# Hosted on GitHub (Colab-friendly)\n",
        "url = \"https://raw.githubusercontent.com/lekanakin/DSN_AI_Bootcamp25/main/youth_unemployment_africa.csv\"\n",
        "data = pd.read_csv(url)\n",
        "\n",
        "# Optional local fallback (for running outside Colab)\n",
        "# local_path = Path(\"data/youth_unemployment_africa.csv\")\n",
        "# if local_path.exists():\n",
        "#     data = pd.read_csv(local_path)\n"
      ]
    },
    {
      "cell_type": "code",
      "execution_count": null,
      "id": "f8bea84e",
      "metadata": {
        "id": "f8bea84e"
      },
      "outputs": [],
      "source": [
        "\n",
        "# Option B: Upload in Colab\n",
        "# from google.colab import files\n",
        "# uploaded = files.upload()  # Choose youth_unemployment_africa.csv\n",
        "# import io\n",
        "# data = pd.read_csv(io.BytesIO(uploaded['youth_unemployment_africa.csv']))\n"
      ]
    },
    {
      "cell_type": "code",
      "execution_count": null,
      "id": "8e368ba6",
      "metadata": {
        "id": "8e368ba6"
      },
      "outputs": [],
      "source": [
        "\n",
        "# Option C: Use a URL or local fallback\n",
        "url = None  # paste a URL string here when hosted\n",
        "\n",
        "local_path = Path(\"youth_unemployment_africa.csv\")\n",
        "if url:\n",
        "    data = pd.read_csv(url)\n",
        "elif local_path.exists():\n",
        "    data = pd.read_csv(local_path)\n",
        "else:\n",
        "    data = pd.read_csv(\"/mnt/data/youth_unemployment_africa.csv\")\n",
        "\n",
        "data.head()\n"
      ]
    },
    {
      "cell_type": "markdown",
      "id": "0bf96e3a",
      "metadata": {
        "id": "0bf96e3a"
      },
      "source": [
        "\n",
        "## 2) Explore the Data (EDA)\n",
        "Let's understand columns, ranges, and relationships.\n"
      ]
    },
    {
      "cell_type": "code",
      "execution_count": null,
      "id": "1a99aac1",
      "metadata": {
        "id": "1a99aac1"
      },
      "outputs": [],
      "source": [
        "data.info()\n",
        "display(data.describe(include='all'))\n",
        "\n",
        "# Quick scatter: GDP vs Youth Unemployment\n",
        "plt.figure()\n",
        "plt.scatter(data['GDP_Per_Capita'], data['Youth_Unemployment_Rate'])\n",
        "plt.title('Youth Unemployment vs GDP per Capita')\n",
        "plt.xlabel('GDP per Capita (USD)')\n",
        "plt.ylabel('Youth Unemployment Rate (%)')\n",
        "plt.show()\n"
      ]
    },
    {
      "cell_type": "code",
      "execution_count": null,
      "id": "93a0153f-76b3-45fb-93eb-f9888335ec42",
      "metadata": {
        "id": "93a0153f-76b3-45fb-93eb-f9888335ec42"
      },
      "outputs": [],
      "source": [
        "# Quick scatter: Education Index vs Youth Unemployment\n",
        "plt.figure()\n",
        "plt.scatter(data['Education_Index'], data['Youth_Unemployment_Rate'])\n",
        "plt.title('Youth Unemployment vs Education Index')\n",
        "plt.xlabel('Education Index')\n",
        "plt.ylabel('Youth Unemployment Rate (%)')\n",
        "plt.show()"
      ]
    },
    {
      "cell_type": "markdown",
      "id": "a4a6f3cb",
      "metadata": {
        "id": "a4a6f3cb"
      },
      "source": [
        "\n",
        "## 3) Build the Predictive Model\n",
        "We predict `Youth_Unemployment_Rate` using:\n",
        "- `GDP_Per_Capita`\n",
        "- `Education_Index`\n",
        "- `Urban_Population_Percent`\n"
      ]
    },
    {
      "cell_type": "code",
      "execution_count": null,
      "id": "f002ac19",
      "metadata": {
        "id": "f002ac19"
      },
      "outputs": [],
      "source": [
        "#Separte the Features and Target\n",
        "X = data[['GDP_Per_Capita', 'Education_Index', 'Urban_Population_Percent']]\n",
        "y = data['Youth_Unemployment_Rate']\n",
        "\n",
        "X_train, X_test, y_train, y_test = train_test_split(\n",
        "    X, y, test_size=0.3, random_state=42\n",
        ")"
      ]
    },
    {
      "cell_type": "code",
      "execution_count": null,
      "id": "a64cc808-beb7-4a42-9faa-ea1cb5e677d3",
      "metadata": {
        "id": "a64cc808-beb7-4a42-9faa-ea1cb5e677d3"
      },
      "outputs": [],
      "source": [
        "#Fit the model\n",
        "model = LinearRegression()\n",
        "model.fit(X_train, y_train)\n",
        "y_pred = model.predict(X_test)\n",
        "\n",
        "print(\"Coefficients:\", model.coef_)\n",
        "print(\"Intercept:\", model.intercept_)"
      ]
    },
    {
      "cell_type": "markdown",
      "id": "2f5f2818-89ca-4e22-bfce-c7fc61d8cf45",
      "metadata": {
        "id": "2f5f2818-89ca-4e22-bfce-c7fc61d8cf45"
      },
      "source": [
        "### Interpreting Coefficients (Plain-English)\n",
        "\n",
        "**Intuition**\n",
        "- **Negative GDP coefficient:** as **GDP per capita** increases, **predicted unemployment decreases** (holding other features constant).\n",
        "- **Negative Education Index coefficient:** **higher education** → **lower predicted unemployment** (all else equal).\n",
        "- **Urbanization coefficient:** can be **ambiguous**; may reflect structural shifts, informal sector size, or service opportunities.\n",
        "\n",
        "**Intercept (what it means)**\n",
        "- The **intercept** is the model’s predicted value when **all features = 0**.\n",
        "- In practice, this can be **not economically meaningful** (e.g., GDP=0, Education Index=0, Urbanization=0 are outside real ranges), but it’s needed mathematically to position the regression plane.\n",
        "- Tip: If you **center** features (subtract their means), the intercept becomes the **predicted unemployment at average feature values**, which is easier to interpret.\n",
        "\n",
        "**Units intuition**\n",
        "- If the GDP coefficient is **−0.002**, that’s roughly **−2.0 percentage points per +$1,000** in GDP per capita  \n",
        "  (because −0.002 × 1000 = −2).  \n",
        "  *Always translate coefficients into meaningful units.*\n",
        "\n",
        "**One-line caveat**\n",
        "- Linear regression assumes **roughly linear relationships** and **not-too-strong collinearity**; today is about **workflow**, not perfect econometrics.\n"
      ]
    },
    {
      "cell_type": "markdown",
      "id": "0a302524",
      "metadata": {
        "id": "0a302524"
      },
      "source": [
        "\n",
        "## 4) Evaluate the Model\n",
        "- **Mean Absolute Error (MAE)**\n",
        "- **R² Score**\n"
      ]
    },
    {
      "cell_type": "code",
      "execution_count": null,
      "id": "906a12e6",
      "metadata": {
        "id": "906a12e6"
      },
      "outputs": [],
      "source": [
        "\n",
        "mae = mean_absolute_error(y_test, y_pred)\n",
        "r2 = r2_score(y_test, y_pred)\n",
        "\n",
        "print(f\"Mean Absolute Error: {mae:.2f}\")\n",
        "print(f\"R² Score: {r2:.2f}\")\n"
      ]
    },
    {
      "cell_type": "markdown",
      "id": "afbe1fcd-382c-49b3-a39a-049eaf01e42a",
      "metadata": {
        "id": "afbe1fcd-382c-49b3-a39a-049eaf01e42a"
      },
      "source": [
        "### Evaluate (MAE & R²)\n",
        "\n",
        "**Run:** Calculate **Mean Absolute Error (MAE)** and **R² (coefficient of determination)**.\n",
        "\n",
        "**Explain simply**\n",
        "- **MAE:** “On average, how far off are we?”  \n",
        "  *Example:* If **MAE = 3.0**, our predictions miss by **~3 percentage points** on average.\n",
        "- **R²:** “How much of the variation in unemployment do our features explain?”  \n",
        "  *Example:* **R² = 0.70** → the model explains **70% of the story**.\n"
      ]
    },
    {
      "cell_type": "markdown",
      "id": "638b0ada",
      "metadata": {
        "id": "638b0ada"
      },
      "source": [
        "\n",
        "### Visual Check: Predicted vs Actual\n"
      ]
    },
    {
      "cell_type": "code",
      "execution_count": null,
      "id": "5fe8b375",
      "metadata": {
        "id": "5fe8b375"
      },
      "outputs": [],
      "source": [
        "\n",
        "# Compute a common range for the diagonal reference line\n",
        "lo = min(np.min(y_test), np.min(y_pred))\n",
        "hi = max(np.max(y_test), np.max(y_pred))\n",
        "\n",
        "plt.figure()\n",
        "plt.scatter(y_test, y_pred)\n",
        "plt.plot([lo, hi], [lo, hi], linewidth=2)  # 45° reference line (perfect predictions)\n",
        "plt.title('Predicted vs Actual Youth Unemployment Rate')\n",
        "plt.xlabel('Actual (%)')\n",
        "plt.ylabel('Predicted (%)')\n",
        "plt.axis('equal')  # optional: makes the diagonal truly 45° on-screen\n",
        "plt.show()\n",
        "\n"
      ]
    },
    {
      "cell_type": "markdown",
      "id": "2ca1c842",
      "metadata": {
        "id": "2ca1c842"
      },
      "source": [
        "\n",
        "## 5) Make a New Prediction (Manual)\n",
        "Try a hypothetical country profile.\n"
      ]
    },
    {
      "cell_type": "code",
      "execution_count": null,
      "id": "e05a606f",
      "metadata": {
        "id": "e05a606f"
      },
      "outputs": [],
      "source": [
        "\n",
        "sample = [[2500, 0.58, 45.0]]  # [GDP_Per_Capita, Education_Index, Urban_Population_Percent]\n",
        "pred = model.predict(sample)[0]\n",
        "print(f\"Predicted Youth Unemployment Rate: {pred:.2f}%\")\n"
      ]
    },
    {
      "cell_type": "markdown",
      "id": "d63fb056",
      "metadata": {
        "id": "d63fb056"
      },
      "source": [
        "\n",
        "## 5b) Interactive Prediction UI\n",
        "\n",
        "Use the sliders to simulate a country profile and get a predicted **Youth Unemployment Rate (%)**.\n",
        "\n",
        "> If you're running in **Google Colab**, the widgets work out-of-the-box.  \n",
        "> In plain Jupyter, ensure `ipywidgets` is installed and enabled.\n"
      ]
    },
    {
      "cell_type": "code",
      "execution_count": null,
      "id": "75e3db54",
      "metadata": {
        "id": "75e3db54"
      },
      "outputs": [],
      "source": [
        "\n",
        "from ipywidgets import FloatSlider, VBox, HBox, Button, Output, Layout, Dropdown, Label\n",
        "import ipywidgets as widgets\n",
        "import numpy as np\n",
        "import pandas as pd\n",
        "import matplotlib.pyplot as plt\n",
        "\n",
        "# Ensure 'data' exists (loaded earlier). Create a lookup for country -> feature values.\n",
        "try:\n",
        "    _ = data[['Country','GDP_Per_Capita','Education_Index','Urban_Population_Percent']]\n",
        "except Exception as e:\n",
        "    raise RuntimeError(\"Dataset 'data' not found. Please run the loading cells above first.\") from e\n",
        "\n",
        "# If multiple rows per country exist, take the latest or mean; here we take the mean for robustness.\n",
        "country_lookup = (\n",
        "    data.groupby('Country')[['GDP_Per_Capita','Education_Index','Urban_Population_Percent']]\n",
        "    .mean()\n",
        "    .round({'GDP_Per_Capita':2,'Education_Index':3,'Urban_Population_Percent':1})\n",
        "    .to_dict('index')\n",
        ")\n",
        "\n",
        "# Fallback retrain if model/X_train are missing- quick retrain\n",
        "try:\n",
        "    model\n",
        "    X_train\n",
        "except NameError:\n",
        "    from sklearn.model_selection import train_test_split\n",
        "    from sklearn.linear_model import LinearRegression\n",
        "    X = data[['GDP_Per_Capita', 'Education_Index', 'Urban_Population_Percent']]\n",
        "    y = data['Youth_Unemployment_Rate']\n",
        "    X_train, X_test, y_train, y_test = train_test_split(X, y, test_size=0.3, random_state=42)\n",
        "    model = LinearRegression().fit(X_train, y_train)\n",
        "\n",
        "# Defaults\n",
        "DEFAULTS = dict(gdp=2500.0, edu=0.58, urban=45.0)\n",
        "\n",
        "# Controls\n",
        "country_dd = Dropdown(\n",
        "    options=['-- Select Country --'] + sorted(country_lookup.keys()),\n",
        "    value='-- Select Country --',\n",
        "    description='Country',\n",
        "    layout=Layout(width='95%')\n",
        ")\n",
        "\n",
        "gdp_slider = FloatSlider(\n",
        "    value=DEFAULTS['gdp'], min=500.0, max=10000.0, step=50.0,\n",
        "    description='GDP/Capita ($)', continuous_update=False, readout_format='.0f',\n",
        "    layout=Layout(width='95%')\n",
        ")\n",
        "\n",
        "edu_slider = FloatSlider(\n",
        "    value=DEFAULTS['edu'], min=0.40, max=0.85, step=0.01,\n",
        "    description='Education Idx', continuous_update=False, readout_format='.2f',\n",
        "    layout=Layout(width='95%')\n",
        ")\n",
        "\n",
        "urban_slider = FloatSlider(\n",
        "    value=DEFAULTS['urban'], min=10.0, max=90.0, step=1.0,\n",
        "    description='Urban (%)', continuous_update=False, readout_format='.0f',\n",
        "    layout=Layout(width='95%')\n",
        ")\n",
        "\n",
        "predict_btn = Button(description='Predict Youth Unemployment (%)', button_style='primary', layout=Layout(width='47%'))\n",
        "reset_btn = Button(description='Reset', layout=Layout(width='47%'))\n",
        "buttons_row = HBox([predict_btn, reset_btn], layout=Layout(width='95%', justify_content='space-between'))\n",
        "\n",
        "out = Output(layout=Layout(border='1px solid #ddd', padding='8px', width='95%'))\n",
        "\n",
        "def plot_meter(pred_value, ymin=0, ymax=50):\n",
        "    \"\"\"Simple meter-style visualization: a horizontal axis with a marker at the prediction.\"\"\"\n",
        "    plt.figure()\n",
        "    plt.axhline(0)\n",
        "    plt.xlim(ymin, ymax)\n",
        "    plt.ylim(-1, 1)\n",
        "    plt.xticks(range(ymin, ymax+1, 5))\n",
        "    plt.axvline(pred_value)\n",
        "    plt.title('Predicted Youth Unemployment Rate (Meter)')\n",
        "    plt.xlabel('Rate (%)')\n",
        "    plt.yticks([])\n",
        "    plt.show()\n",
        "\n",
        "def on_predict_clicked(b):\n",
        "    with out:\n",
        "        out.clear_output()\n",
        "        sample = [[gdp_slider.value, edu_slider.value, urban_slider.value]]\n",
        "        pred = model.predict(sample)[0]\n",
        "        print(f\"Predicted Youth Unemployment Rate: {pred:.2f}%\")\n",
        "        try:\n",
        "            train_mean = float(pd.Series(model.predict(X_train)).mean())\n",
        "            print(f\"(Context) Avg predicted (train set): {train_mean:.2f}%\")\n",
        "        except Exception:\n",
        "            pass\n",
        "        plot_meter(pred_value=float(pred), ymin=0, ymax=50)\n",
        "\n",
        "def on_reset_clicked(b):\n",
        "    country_dd.value = '-- Select Country --'\n",
        "    gdp_slider.value = DEFAULTS['gdp']\n",
        "    edu_slider.value = DEFAULTS['edu']\n",
        "    urban_slider.value = DEFAULTS['urban']\n",
        "    with out:\n",
        "        out.clear_output()\n",
        "        print(\"Controls reset to defaults.\")\n",
        "\n",
        "def on_country_change(change):\n",
        "    if change['name'] == 'value' and change['new'] != '-- Select Country --':\n",
        "        vals = country_lookup.get(change['new'])\n",
        "        if vals:\n",
        "            gdp_slider.value = float(vals['GDP_Per_Capita'])\n",
        "            edu_slider.value = float(vals['Education_Index'])\n",
        "            urban_slider.value = float(vals['Urban_Population_Percent'])\n",
        "\n",
        "country_dd.observe(on_country_change, names='value')\n",
        "predict_btn.on_click(on_predict_clicked)\n",
        "reset_btn.on_click(on_reset_clicked)\n",
        "\n",
        "VBox([country_dd, gdp_slider, edu_slider, urban_slider, buttons_row, out])\n"
      ]
    },
    {
      "cell_type": "markdown",
      "id": "32dfaf2a",
      "metadata": {
        "id": "32dfaf2a"
      },
      "source": [
        "\n",
        "## 6) Reflection & Next Steps\n",
        "- Add more features: internet penetration, access to finance, sectoral shares.\n",
        "- Try new algorithms: Decision Trees, Random Forests.\n",
        "- Perform cross-validation and hyperparameter tuning.\n",
        "- Share insights with policymakers and communities.\n"
      ]
    },
    {
      "cell_type": "markdown",
      "id": "8fab9fbf-50d4-45da-ba6a-64d9cd110e98",
      "metadata": {
        "id": "8fab9fbf-50d4-45da-ba6a-64d9cd110e98"
      },
      "source": [
        "## Thank You"
      ]
    },
    {
      "cell_type": "code",
      "execution_count": null,
      "id": "baaea6c3-0958-4587-a455-4b0dc7989fde",
      "metadata": {
        "id": "baaea6c3-0958-4587-a455-4b0dc7989fde"
      },
      "outputs": [],
      "source": []
    }
  ],
  "metadata": {
    "kernelspec": {
      "display_name": "Python [conda env:base] *",
      "language": "python",
      "name": "conda-base-py"
    },
    "language_info": {
      "codemirror_mode": {
        "name": "ipython",
        "version": 3
      },
      "file_extension": ".py",
      "mimetype": "text/x-python",
      "name": "python",
      "nbconvert_exporter": "python",
      "pygments_lexer": "ipython3",
      "version": "3.13.5"
    },
    "colab": {
      "provenance": [],
      "include_colab_link": true
    }
  },
  "nbformat": 4,
  "nbformat_minor": 5
}